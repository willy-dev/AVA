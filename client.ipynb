{
 "cells": [
  {
   "cell_type": "code",
   "execution_count": null,
   "id": "responsible-funds",
   "metadata": {
    "scrolled": true
   },
   "outputs": [],
   "source": [
    "from snap7.client import Client as SnapClient\n",
    "from snap7.types import areas\n",
    "from snap7.util import *\n"
   ]
  },
  {
   "cell_type": "code",
   "execution_count": null,
   "id": "natural-dealer",
   "metadata": {},
   "outputs": [],
   "source": [
    "\n",
    "import sys,time\n",
    "from socket import socket\n",
    "import pyttsx3\n",
    "import datetime\n",
    "import speech_recognition as sr\n",
    "from gtts import gTTS # recognize audio\n",
    "import pyaudio\n",
    "import regex as re"
   ]
  },
  {
   "cell_type": "code",
   "execution_count": null,
   "id": "developmental-pierce",
   "metadata": {},
   "outputs": [],
   "source": [
    "#custom imports\n",
    "from client_security import OPC_CLIENT_SECURITY\n",
    "from plc_utils import read_data, write_data\n",
    "from face_recognition_keras import *\n",
    "from chatbot import *\n"
   ]
  },
  {
   "cell_type": "markdown",
   "id": "african-custom",
   "metadata": {},
   "source": [
    "# create objects"
   ]
  },
  {
   "cell_type": "code",
   "execution_count": null,
   "id": "violent-ideal",
   "metadata": {},
   "outputs": [],
   "source": [
    "opc_client = OPC_CLIENT_SECURITY()\n",
    "opc_client.init_opc_client_security('192.168.137.73')\n",
    "engine = pyttsx3.init()"
   ]
  },
  {
   "cell_type": "markdown",
   "id": "revolutionary-oregon",
   "metadata": {},
   "source": [
    "# request authentication"
   ]
  },
  {
   "cell_type": "code",
   "execution_count": null,
   "id": "peripheral-martin",
   "metadata": {},
   "outputs": [],
   "source": [
    "credentials = recognizer(get_face())\n",
    "response = opc_client.get_opc_server_access(str(credentials))"
   ]
  },
  {
   "cell_type": "markdown",
   "id": "seasonal-identity",
   "metadata": {},
   "source": [
    "# connect to server and run chatbot"
   ]
  },
  {
   "cell_type": "code",
   "execution_count": null,
   "id": "regional-forwarding",
   "metadata": {
    "scrolled": true
   },
   "outputs": [],
   "source": [
    "\n",
    "while response == \"Failure\":\n",
    "    print(\"Server access denied. Retrying\")\n",
    "    credentials = recognizer()\n",
    "    response = opc_client.get_opc_server_access(str(credentials))\n",
    "    if response == \"Success\":\n",
    "        break\n",
    "\n",
    "print(\"Server access granted\")\n",
    "\n",
    "url = \"opc.tcp://127.0.0.1:4840\"\n",
    "client = Client(url)\n",
    "\n",
    "client.connect()\n",
    "engine.say(\"Client Connected\")\n",
    "engine.runAndWait()\n",
    "\n",
    "if True:\n",
    "    engine.say(' Hello! I am your assistant Red. what can i do for you?'.format(str(credentials)))\n",
    "    engine.runAndWait()\n",
    "    set_PH()\n",
    "    \n",
    "        "
   ]
  },
  {
   "cell_type": "code",
   "execution_count": null,
   "id": "gothic-begin",
   "metadata": {
    "scrolled": true
   },
   "outputs": [],
   "source": [
    "stop_process()"
   ]
  },
  {
   "cell_type": "code",
   "execution_count": null,
   "id": "flexible-sociology",
   "metadata": {
    "scrolled": false
   },
   "outputs": [],
   "source": [
    "set_PH()"
   ]
  },
  {
   "cell_type": "code",
   "execution_count": null,
   "id": "damaged-spray",
   "metadata": {},
   "outputs": [],
   "source": []
  }
 ],
 "metadata": {
  "interpreter": {
   "hash": "0ca4b2c20bc824b1dcae45b8e5d45a3ee9a30f3f62cd823facd06572cca2b6a2"
  },
  "kernelspec": {
   "display_name": "Python 3.6 (chatbot)",
   "language": "python",
   "name": "python3"
  },
  "language_info": {
   "codemirror_mode": {
    "name": "ipython",
    "version": 3
   },
   "file_extension": ".py",
   "mimetype": "text/x-python",
   "name": "python",
   "nbconvert_exporter": "python",
   "pygments_lexer": "ipython3",
   "version": "3.6.13"
  },
  "varInspector": {
   "cols": {
    "lenName": 16,
    "lenType": 16,
    "lenVar": 40
   },
   "kernels_config": {
    "python": {
     "delete_cmd_postfix": "",
     "delete_cmd_prefix": "del ",
     "library": "var_list.py",
     "varRefreshCmd": "print(var_dic_list())"
    },
    "r": {
     "delete_cmd_postfix": ") ",
     "delete_cmd_prefix": "rm(",
     "library": "var_list.r",
     "varRefreshCmd": "cat(var_dic_list()) "
    }
   },
   "types_to_exclude": [
    "module",
    "function",
    "builtin_function_or_method",
    "instance",
    "_Feature"
   ],
   "window_display": false
  }
 },
 "nbformat": 4,
 "nbformat_minor": 5
}
