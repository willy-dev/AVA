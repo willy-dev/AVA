{
 "cells": [
  {
   "cell_type": "code",
   "execution_count": 34,
   "id": "physical-division",
   "metadata": {},
   "outputs": [],
   "source": [
    "from opcua import Server, Client, ua, uamethod\n",
    "\n",
    "from snap7.client import Client as SnapClient\n",
    "from snap7.types import *\n",
    "from snap7.util import *\n",
    "from plc_utils import read_data, write_data\n",
    "\n",
    "\n",
    "from random import randint\n",
    "import datetime\n",
    "import time\n",
    "import os\n",
    "import cv2\n",
    "from server_security import OPC_SERVER_SECURITY\n",
    "\n"
   ]
  },
  {
   "cell_type": "markdown",
   "id": "deadly-rally",
   "metadata": {},
   "source": [
    "# define objects"
   ]
  },
  {
   "cell_type": "code",
   "execution_count": 39,
   "id": "instrumental-penny",
   "metadata": {},
   "outputs": [
    {
     "data": {
      "text/plain": [
       "'S7CpuStatusRun'"
      ]
     },
     "execution_count": 39,
     "metadata": {},
     "output_type": "execute_result"
    }
   ],
   "source": [
    "\n",
    "server = Server()\n",
    "opc_server = OPC_SERVER_SECURITY()\n",
    "global plc\n",
    "plc=SnapClient()\n",
    "\n",
    "\n",
    "url = \"opc.tcp://127.0.0.1:3753\"\n",
    "server.set_endpoint(url)\n",
    "\n",
    "\n",
    "plc_ip=\"192.168.0.1\"#usually same in all s7s but confirm kwa TIA\n",
    "plc.connect(plc_ip, 0, 1)\n",
    "plc.get_connected()\n",
    "plc.get_cpu_state()\n",
    "#plc.get_cpu_info()\n",
    "\n",
    "\n"
   ]
  },
  {
   "cell_type": "markdown",
   "id": "sustainable-still",
   "metadata": {},
   "source": [
    "# server structure"
   ]
  },
  {
   "cell_type": "code",
   "execution_count": 40,
   "id": "growing-tattoo",
   "metadata": {},
   "outputs": [],
   "source": [
    "\n",
    "name = \"OPC_Server_Analytic_station\"\n",
    "addspace = server.register_namespace(name)#address space\n",
    "\n",
    "\n",
    "node = server.get_objects_node()\n",
    "plc_node = node.add_object(addspace, \"PLC_1\")\n",
    "\n",
    "\n",
    "#(addspace,\"variable_name\",initial_value)\n",
    "process_PH = plc_node.add_variable(addspace,\"process_PH\", 0)   \n",
    "setpoint = plc_node.add_variable(addspace, \"setpoint\", 0.0 )\n",
    "start = plc_node.add_variable(addspace, \"start\",False, ua.VariantType.Boolean )\n",
    "stop = plc_node.add_variable(addspace, \"stop\",False, ua.VariantType.Boolean )\n",
    "\n",
    "\n",
    "process_PH.set_writable()\n",
    "setpoint.set_writable()\n",
    "start.set_writable()\n",
    "stop.set_writable()\n"
   ]
  },
  {
   "cell_type": "markdown",
   "id": "duplicate-alloy",
   "metadata": {},
   "source": [
    "# start server and wait for clients "
   ]
  },
  {
   "cell_type": "code",
   "execution_count": 38,
   "id": "lyric-municipality",
   "metadata": {},
   "outputs": [
    {
     "name": "stderr",
     "output_type": "stream",
     "text": [
      "Endpoints other than open requested but private key and certificate are not set.\n",
      "Listening on 127.0.0.1:3752\n"
     ]
    },
    {
     "name": "stdout",
     "output_type": "stream",
     "text": [
      "Server started at opc.tcp://127.0.0.1:3752\n",
      "process_PH:False\n",
      "setpoint:0.0\n"
     ]
    },
    {
     "ename": "ValueError",
     "evalue": "131 is not implemented in snap7.types",
     "output_type": "error",
     "traceback": [
      "\u001b[1;31m---------------------------------------------------------------------------\u001b[0m",
      "\u001b[1;31mValueError\u001b[0m                                Traceback (most recent call last)",
      "\u001b[1;32m<ipython-input-38-b4f692190a26>\u001b[0m in \u001b[0;36m<module>\u001b[1;34m\u001b[0m\n\u001b[0;32m     17\u001b[0m         \u001b[1;32mwhile\u001b[0m \u001b[1;32mTrue\u001b[0m\u001b[1;33m:\u001b[0m\u001b[1;33m\u001b[0m\u001b[1;33m\u001b[0m\u001b[0m\n\u001b[0;32m     18\u001b[0m             \u001b[1;32mif\u001b[0m \u001b[0msetpoint\u001b[0m\u001b[1;33m<=\u001b[0m\u001b[0mprocess_PH\u001b[0m\u001b[1;33m:\u001b[0m\u001b[1;33m\u001b[0m\u001b[1;33m\u001b[0m\u001b[0m\n\u001b[1;32m---> 19\u001b[1;33m                 \u001b[0mwrite_data\u001b[0m\u001b[1;33m(\u001b[0m\u001b[0mplc\u001b[0m\u001b[1;33m,\u001b[0m \u001b[1;34m'M0.3'\u001b[0m\u001b[1;33m,\u001b[0m \u001b[1;32mFalse\u001b[0m\u001b[1;33m)\u001b[0m\u001b[1;31m#stop set to True\u001b[0m\u001b[1;33m\u001b[0m\u001b[1;33m\u001b[0m\u001b[0m\n\u001b[0m\u001b[0;32m     20\u001b[0m                 \u001b[0mwrite_data\u001b[0m\u001b[1;33m(\u001b[0m\u001b[0mplc\u001b[0m\u001b[1;33m,\u001b[0m \u001b[1;34m'M0.2'\u001b[0m\u001b[1;33m,\u001b[0m \u001b[1;32mTrue\u001b[0m\u001b[1;33m)\u001b[0m\u001b[1;31m#start set to False\u001b[0m\u001b[1;33m\u001b[0m\u001b[1;33m\u001b[0m\u001b[0m\n\u001b[0;32m     21\u001b[0m \u001b[1;33m\u001b[0m\u001b[0m\n",
      "\u001b[1;32md:\\Code-py\\Flask-Live\\plc_utils.py\u001b[0m in \u001b[0;36mwrite_data\u001b[1;34m(plc, key, value)\u001b[0m\n\u001b[0;32m     37\u001b[0m         \u001b[0mbyt\u001b[0m \u001b[1;33m=\u001b[0m \u001b[0mint\u001b[0m\u001b[1;33m(\u001b[0m\u001b[0maddr\u001b[0m\u001b[1;33m[\u001b[0m\u001b[1;36m0\u001b[0m\u001b[1;33m]\u001b[0m\u001b[1;33m[\u001b[0m\u001b[1;36m1\u001b[0m\u001b[1;33m:\u001b[0m\u001b[1;33m]\u001b[0m\u001b[1;33m)\u001b[0m\u001b[1;33m\u001b[0m\u001b[1;33m\u001b[0m\u001b[0m\n\u001b[0;32m     38\u001b[0m         \u001b[0mbit\u001b[0m \u001b[1;33m=\u001b[0m \u001b[0mint\u001b[0m\u001b[1;33m(\u001b[0m\u001b[0maddr\u001b[0m\u001b[1;33m[\u001b[0m\u001b[1;36m1\u001b[0m\u001b[1;33m]\u001b[0m\u001b[1;33m)\u001b[0m\u001b[1;33m\u001b[0m\u001b[1;33m\u001b[0m\u001b[0m\n\u001b[1;32m---> 39\u001b[1;33m         \u001b[0mreading\u001b[0m \u001b[1;33m=\u001b[0m \u001b[0mplc\u001b[0m\u001b[1;33m.\u001b[0m\u001b[0mread_area\u001b[0m\u001b[1;33m(\u001b[0m\u001b[0marea\u001b[0m\u001b[1;33m[\u001b[0m\u001b[0maddr\u001b[0m\u001b[1;33m[\u001b[0m\u001b[1;36m0\u001b[0m\u001b[1;33m]\u001b[0m\u001b[1;33m[\u001b[0m\u001b[1;36m0\u001b[0m\u001b[1;33m]\u001b[0m\u001b[1;33m]\u001b[0m\u001b[1;33m,\u001b[0m \u001b[1;36m0\u001b[0m\u001b[1;33m,\u001b[0m \u001b[0mbyt\u001b[0m\u001b[1;33m,\u001b[0m \u001b[1;36m1\u001b[0m\u001b[1;33m)\u001b[0m\u001b[1;33m\u001b[0m\u001b[1;33m\u001b[0m\u001b[0m\n\u001b[0m\u001b[0;32m     40\u001b[0m         \u001b[0mset_bool\u001b[0m\u001b[1;33m(\u001b[0m\u001b[0mreading\u001b[0m\u001b[1;33m,\u001b[0m \u001b[1;36m0\u001b[0m\u001b[1;33m,\u001b[0m \u001b[0mbit\u001b[0m\u001b[1;33m,\u001b[0m \u001b[0mvalue\u001b[0m\u001b[1;33m)\u001b[0m\u001b[1;33m\u001b[0m\u001b[1;33m\u001b[0m\u001b[0m\n\u001b[0;32m     41\u001b[0m         \u001b[0mplc\u001b[0m\u001b[1;33m.\u001b[0m\u001b[0mwrite_area\u001b[0m\u001b[1;33m(\u001b[0m\u001b[0marea\u001b[0m\u001b[1;33m[\u001b[0m\u001b[0maddr\u001b[0m\u001b[1;33m[\u001b[0m\u001b[1;36m0\u001b[0m\u001b[1;33m]\u001b[0m\u001b[1;33m[\u001b[0m\u001b[1;36m0\u001b[0m\u001b[1;33m]\u001b[0m\u001b[1;33m]\u001b[0m\u001b[1;33m,\u001b[0m \u001b[1;36m0\u001b[0m\u001b[1;33m,\u001b[0m \u001b[0mbyt\u001b[0m\u001b[1;33m,\u001b[0m \u001b[0mreading\u001b[0m\u001b[1;33m)\u001b[0m\u001b[1;33m\u001b[0m\u001b[1;33m\u001b[0m\u001b[0m\n",
      "\u001b[1;32m~\\.conda\\envs\\python365\\lib\\site-packages\\snap7\\client.py\u001b[0m in \u001b[0;36mread_area\u001b[1;34m(self, area, dbnumber, start, size)\u001b[0m\n\u001b[0;32m    391\u001b[0m         \"\"\"\n\u001b[0;32m    392\u001b[0m         \u001b[1;32mif\u001b[0m \u001b[0marea\u001b[0m \u001b[1;32mnot\u001b[0m \u001b[1;32min\u001b[0m \u001b[0mAreas\u001b[0m\u001b[1;33m:\u001b[0m\u001b[1;33m\u001b[0m\u001b[1;33m\u001b[0m\u001b[0m\n\u001b[1;32m--> 393\u001b[1;33m             \u001b[1;32mraise\u001b[0m \u001b[0mValueError\u001b[0m\u001b[1;33m(\u001b[0m\u001b[1;34mf\"{area} is not implemented in snap7.types\"\u001b[0m\u001b[1;33m)\u001b[0m\u001b[1;33m\u001b[0m\u001b[1;33m\u001b[0m\u001b[0m\n\u001b[0m\u001b[0;32m    394\u001b[0m         \u001b[1;32melif\u001b[0m \u001b[0marea\u001b[0m \u001b[1;33m==\u001b[0m \u001b[0mAreas\u001b[0m\u001b[1;33m.\u001b[0m\u001b[0mTM\u001b[0m\u001b[1;33m:\u001b[0m\u001b[1;33m\u001b[0m\u001b[1;33m\u001b[0m\u001b[0m\n\u001b[0;32m    395\u001b[0m             \u001b[0mwordlen\u001b[0m \u001b[1;33m=\u001b[0m \u001b[0mWordLen\u001b[0m\u001b[1;33m.\u001b[0m\u001b[0mTimer\u001b[0m\u001b[1;33m\u001b[0m\u001b[1;33m\u001b[0m\u001b[0m\n",
      "\u001b[1;31mValueError\u001b[0m: 131 is not implemented in snap7.types"
     ]
    }
   ],
   "source": [
    "server.start()\n",
    "print(\"Server started at {}\".format(url))\n",
    "\n",
    "opc_server.init_opc_server_security('172.16.104.205')\n",
    "while True:\n",
    "        #process_PH.set_value(read_data(plc, 'IW98'))\n",
    "        #print(process_PH)#prints the node id used below\n",
    "        process_PH=server.get_node('ns=2;i=4')\n",
    "        process_PH=process_PH.get_value()\n",
    "        print('process_PH:{}'.format(process_PH))\n",
    "        \n",
    "        #setpoint.set_value(read_data(plc, 'DB3.DBD0'))\n",
    "        setpoint=server.get_node('ns=2;i=3')\n",
    "        setpoint=setpoint.get_value()\n",
    "        print('setpoint:{}'.format(setpoint))\n",
    "        \n",
    "        while True:\n",
    "            if setpoint<=process_PH:\n",
    "                write_data(plc, 'M0.3', False)#stop set to True\n",
    "                write_data(plc, 'M0.2', True)#start set to False\n",
    "\n",
    "       \n",
    "\n",
    "        "
   ]
  }
 ],
 "metadata": {
  "interpreter": {
   "hash": "936ed642c54522a0a97ca95195f50db1032f48f0ef9a057cb72c8e06b988e69d"
  },
  "kernelspec": {
   "display_name": "Python 3.6 (chatbot)",
   "language": "python",
   "name": "python3"
  },
  "language_info": {
   "codemirror_mode": {
    "name": "ipython",
    "version": 3
   },
   "file_extension": ".py",
   "mimetype": "text/x-python",
   "name": "python",
   "nbconvert_exporter": "python",
   "pygments_lexer": "ipython3",
   "version": "3.6.13"
  },
  "varInspector": {
   "cols": {
    "lenName": 16,
    "lenType": 16,
    "lenVar": 40
   },
   "kernels_config": {
    "python": {
     "delete_cmd_postfix": "",
     "delete_cmd_prefix": "del ",
     "library": "var_list.py",
     "varRefreshCmd": "print(var_dic_list())"
    },
    "r": {
     "delete_cmd_postfix": ") ",
     "delete_cmd_prefix": "rm(",
     "library": "var_list.r",
     "varRefreshCmd": "cat(var_dic_list()) "
    }
   },
   "types_to_exclude": [
    "module",
    "function",
    "builtin_function_or_method",
    "instance",
    "_Feature"
   ],
   "window_display": false
  }
 },
 "nbformat": 4,
 "nbformat_minor": 5
}
